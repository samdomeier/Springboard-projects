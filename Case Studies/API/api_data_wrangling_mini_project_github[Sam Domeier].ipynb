{
 "cells": [
  {
   "cell_type": "markdown",
   "metadata": {},
   "source": [
    "This exercise will require you to pull some data from the Qunadl API. Qaundl is currently the most widely used aggregator of financial market data."
   ]
  },
  {
   "cell_type": "markdown",
   "metadata": {},
   "source": [
    "As a first step, you will need to register a free account on the http://www.quandl.com website."
   ]
  },
  {
   "cell_type": "markdown",
   "metadata": {},
   "source": [
    "After you register, you will be provided with a unique API key, that you should store:"
   ]
  },
  {
   "cell_type": "code",
   "execution_count": 3,
   "metadata": {},
   "outputs": [],
   "source": [
    "# Store the API key as a string - according to PEP8, constants are always named in all upper case\n",
    "API_KEY = 'deleted'"
   ]
  },
  {
   "cell_type": "markdown",
   "metadata": {},
   "source": [
    "Qaundl has a large number of data sources, but, unfortunately, most of them require a Premium subscription. Still, there are also a good number of free datasets."
   ]
  },
  {
   "cell_type": "markdown",
   "metadata": {},
   "source": [
    "For this mini project, we will focus on equities data from the Frankfurt Stock Exhange (FSE), which is available for free. We'll try and analyze the stock prices of a company called Carl Zeiss Meditec, which manufactures tools for eye examinations, as well as medical lasers for laser eye surgery: https://www.zeiss.com/meditec/int/home.html. The company is listed under the stock ticker AFX_X."
   ]
  },
  {
   "cell_type": "markdown",
   "metadata": {},
   "source": [
    "You can find the detailed Quandl API instructions here: https://docs.quandl.com/docs/time-series"
   ]
  },
  {
   "cell_type": "markdown",
   "metadata": {},
   "source": [
    "While there is a dedicated Python package for connecting to the Quandl API, we would prefer that you use the *requests* package, which can be easily downloaded using *pip* or *conda*. You can find the documentation for the package here: http://docs.python-requests.org/en/master/ "
   ]
  },
  {
   "cell_type": "markdown",
   "metadata": {},
   "source": [
    "Finally, apart from the *requests* package, you are encouraged to not use any third party Python packages, such as *pandas*, and instead focus on what's available in the Python Standard Library (the *collections* module might come in handy: https://pymotw.com/3/collections/ ).\n",
    "Also, since you won't have access to DataFrames, you are encouraged to us Python's native data structures - preferably dictionaries, though some questions can also be answered using lists.\n",
    "You can read more on these data structures here: https://docs.python.org/3/tutorial/datastructures.html"
   ]
  },
  {
   "cell_type": "markdown",
   "metadata": {},
   "source": [
    "Keep in mind that the JSON responses you will be getting from the API map almost one-to-one to Python's dictionaries. Unfortunately, they can be very nested, so make sure you read up on indexing dictionaries in the documentation provided above."
   ]
  },
  {
   "cell_type": "code",
   "execution_count": 2,
   "metadata": {},
   "outputs": [],
   "source": [
    "# First, import the relevant modules\n",
    "import requests"
   ]
  },
  {
   "cell_type": "code",
   "execution_count": 11,
   "metadata": {},
   "outputs": [
    {
     "name": "stdout",
     "output_type": "stream",
     "text": [
      "200\n"
     ]
    }
   ],
   "source": [
    "# Now, call the Quandl API and pull out a small sample of the data (only one day) to get a glimpse\n",
    "# into the JSON structure that will be returned\n",
    "# url = 'https://www.quandl.com/api/v3/datasets/FSE/AFX_X.json?api_key=deleted'\n",
    "# this was given by the webiste\n",
    "url = \"https://www.quandl.com/api/v3/datasets/FSE/AFX_X.json?api_key=deleted\"\n",
    "\n",
    "# Set the parameters (based on Quandl specific parameters: https://docs.quandl.com/docs/parameters-2)\n",
    "params = dict(collapse='daily', limit=1)\n",
    "\n",
    "res = requests.get(url, params=params)\n",
    "\n",
    "# status code off 200 means it is running OK\n",
    "print(res.status_code)\n",
    "\n",
    "### PS\n",
    "# url = \"https://www.quandl.com/api/v3/datasets/FSE/AFX_X.json?api_key=deleted&collapse='daily'&limit=1\"\n",
    "# also works (all parameters are separated by '&')"
   ]
  },
  {
   "cell_type": "code",
   "execution_count": 12,
   "metadata": {},
   "outputs": [
    {
     "data": {
      "text/plain": [
       "{'dataset': {'id': 10095370,\n",
       "  'dataset_code': 'AFX_X',\n",
       "  'database_code': 'FSE',\n",
       "  'name': 'Carl Zeiss Meditec (AFX_X)',\n",
       "  'description': 'Stock Prices for Carl Zeiss Meditec (2020-05-15) from the Frankfurt Stock Exchange.<br><br>Trading System: Xetra<br><br>ISIN: DE0005313704',\n",
       "  'refreshed_at': '2020-05-29T22:16:21.973Z',\n",
       "  'newest_available_date': '2020-05-29',\n",
       "  'oldest_available_date': '2000-06-07',\n",
       "  'column_names': ['Date',\n",
       "   'Open',\n",
       "   'High',\n",
       "   'Low',\n",
       "   'Close',\n",
       "   'Change',\n",
       "   'Traded Volume',\n",
       "   'Turnover',\n",
       "   'Last Price of the Day',\n",
       "   'Daily Traded Units',\n",
       "   'Daily Turnover'],\n",
       "  'frequency': 'daily',\n",
       "  'type': 'Time Series',\n",
       "  'premium': False,\n",
       "  'limit': 1,\n",
       "  'transform': None,\n",
       "  'column_index': None,\n",
       "  'start_date': '2000-06-07',\n",
       "  'end_date': '2020-05-29',\n",
       "  'data': [['2020-05-29',\n",
       "    91.05,\n",
       "    93.1,\n",
       "    90.25,\n",
       "    92.1,\n",
       "    None,\n",
       "    238162.0,\n",
       "    21887648.1,\n",
       "    None,\n",
       "    None,\n",
       "    None]],\n",
       "  'collapse': None,\n",
       "  'order': None,\n",
       "  'database_id': 6129}}"
      ]
     },
     "execution_count": 12,
     "metadata": {},
     "output_type": "execute_result"
    }
   ],
   "source": [
    "# Inspect the JSON structure of the object you created, and take note of how nested it is,\n",
    "# as well as the overall structure\n",
    "res.json()\n"
   ]
  },
  {
   "cell_type": "markdown",
   "metadata": {},
   "source": [
    "These are your tasks for this mini project:\n",
    "\n",
    "1. Collect data from the Franfurt Stock Exchange, for the ticker AFX_X, for the whole year 2017 (keep in mind that the date format is YYYY-MM-DD).\n",
    "2. Convert the returned JSON object into a Python dictionary.\n",
    "3. Calculate what the highest and lowest opening prices were for the stock in this period.\n",
    "4. What was the largest change in any one day (based on High and Low price)?\n",
    "5. What was the largest change between any two days (based on Closing Price)?\n",
    "6. What was the average daily trading volume during this year?\n",
    "7. (Optional) What was the median trading volume during this year. (Note: you may need to implement your own function for calculating the median.)"
   ]
  },
  {
   "cell_type": "code",
   "execution_count": 13,
   "metadata": {},
   "outputs": [
    {
     "name": "stdout",
     "output_type": "stream",
     "text": [
      "200\n"
     ]
    }
   ],
   "source": [
    "### Task 1\n",
    "\n",
    "# Collect data from the Franfurt Stock Exchange, for the ticker AFX_X, for the whole year 2017 (keep in mind that the date\n",
    "# format is YYYY-MM-DD).\n",
    "url = \"https://www.quandl.com/api/v3/datasets/FSE/AFX_X.json?api_key=deleted\"\n",
    "\n",
    "# Set the parameters (based on Quandl specific parameters: https://docs.quandl.com/docs/parameters-2)\n",
    "params = dict(collapse='daily', start_date='2017-01-01', end_date='2017-12-31')\n",
    "\n",
    "res = requests.get(url, params=params)\n",
    "\n",
    "print(res.status_code)"
   ]
  },
  {
   "cell_type": "code",
   "execution_count": 28,
   "metadata": {},
   "outputs": [
    {
     "name": "stdout",
     "output_type": "stream",
     "text": [
      "<class 'dict'>\n"
     ]
    }
   ],
   "source": [
    "### Task 2\n",
    "\n",
    "# Convert the returned JSON object into a Python dictionary.\n",
    "# call the 'dataset' key - this contains all the data for this call\n",
    "json_dict = res.json()['dataset']\n",
    "\n",
    "print(type(json_dict))"
   ]
  },
  {
   "cell_type": "code",
   "execution_count": 97,
   "metadata": {
    "scrolled": true
   },
   "outputs": [
    {
     "name": "stdout",
     "output_type": "stream",
     "text": [
      "The highest opening price of 2017 was: $53.11\n",
      "The lowest opening price of 2017 was: $34.0\n"
     ]
    }
   ],
   "source": [
    "### Task 3\n",
    "\n",
    "# Calculate what the highest and lowest opening prices were for the stock in this period.\n",
    "\n",
    "'''\n",
    "The following code is the structure of what the list comprehension method below covers:\n",
    "\n",
    "# create an empty list to put all of the prices on the day 'open'\n",
    "open_price = []\n",
    "\n",
    "# 'open' is index 1 of the 'column_names'\n",
    "for day in json_dict['data']:\n",
    "    price = day[1]\n",
    "    \n",
    "    # All open prices should be a 'float' datatype - make sure we only pass in true values (filter out the 'NoneType' values)\n",
    "    if isinstance(price, float):\n",
    "        open_price.append(price)\n",
    "'''\n",
    "\n",
    "open_price = [day[1] for day in json_dict['data'] if isinstance(day[1], float)]\n",
    "\n",
    "print(f'The highest opening price of 2017 was: ${max(open_price)}')\n",
    "print(f'The lowest opening price of 2017 was: ${min(open_price)}')"
   ]
  },
  {
   "cell_type": "code",
   "execution_count": 100,
   "metadata": {},
   "outputs": [
    {
     "name": "stdout",
     "output_type": "stream",
     "text": [
      "The largest change of price in any day of 2017 was: $2.81\n"
     ]
    }
   ],
   "source": [
    "### Task 4\n",
    "\n",
    "# What was the largest change in any one day (based on High and Low price)?\n",
    "# High and Low prices are index values 2 and 3, respectively\n",
    "\n",
    "change_list = [day[2]-day[3] for day in json_dict['data'] if isinstance((day[2]-day[3]), float)]\n",
    "\n",
    "print(f'The largest change of price in any day of 2017 was: ${round(max(change_list), 2)}')"
   ]
  },
  {
   "cell_type": "code",
   "execution_count": 101,
   "metadata": {},
   "outputs": [
    {
     "name": "stdout",
     "output_type": "stream",
     "text": [
      "The largest change of price in any day of 2017 was: $2.56\n"
     ]
    }
   ],
   "source": [
    "### Task 5\n",
    "\n",
    "# What was the largest change between any two days (based on Closing Price)?\n",
    "# Close price for each day is index 4\n",
    "\n",
    "change_close = []\n",
    "\n",
    "for i,day in enumerate(json_dict['data']):\n",
    "    # since there is no day prior to compare to, set the first day of 2017 as the first 'last' price\n",
    "    if i == 0:\n",
    "        last = day[4]\n",
    "    else:    \n",
    "        if isinstance(day[4], float):\n",
    "            price_dif = abs(last - day[4])\n",
    "            change_close.append(price_dif)\n",
    "            last = day[4]\n",
    "        \n",
    "print(f'The largest change of price in any day of 2017 was: ${round(max(change_close), 2)}')"
   ]
  },
  {
   "cell_type": "code",
   "execution_count": 106,
   "metadata": {},
   "outputs": [
    {
     "name": "stdout",
     "output_type": "stream",
     "text": [
      "The average Trade Volume per day in 2017 was: 89124.34\n"
     ]
    }
   ],
   "source": [
    "### Task 6\n",
    "\n",
    "# What was the average daily trading volume during this year?\n",
    "# Trade Volume is index 6\n",
    "\n",
    "trdvol = [vol[6] for vol in json_dict['data'] if isinstance(vol[6], float)]\n",
    "\n",
    "print(f'The average Trade Volume per day in 2017 was: {round((sum(trdvol)/len(trdvol)), 2)}')"
   ]
  },
  {
   "cell_type": "code",
   "execution_count": 122,
   "metadata": {},
   "outputs": [],
   "source": [
    "### Task 7 (optional)\n",
    "\n",
    "# What was the median trading volume during this year. \n",
    "# (Note: you may need to implement your own function for calculating the median.)\n",
    "\n",
    "# using the previously created trdvol list...\n",
    "med_trdvol = sorted(trdvol)\n",
    "\n",
    "# Calculate the median value by finding the center of the list\n",
    "def find_med(lst):\n",
    "    # identify if the list argument contains an even or odd amount of entries\n",
    "    if len(lst)%2 == 0:\n",
    "        return sum(lst[(len(lst)/2)] + lst[(len(lst)/2)+1])/2\n",
    "    else:\n",
    "        return lst[int(len(lst)/2)+1]"
   ]
  },
  {
   "cell_type": "code",
   "execution_count": 126,
   "metadata": {},
   "outputs": [
    {
     "name": "stdout",
     "output_type": "stream",
     "text": [
      "True\n"
     ]
    },
    {
     "data": {
      "text/plain": [
       "76600.0"
      ]
     },
     "execution_count": 126,
     "metadata": {},
     "output_type": "execute_result"
    }
   ],
   "source": [
    "# compare the results to the actual median (index value 128 of the sorted list)\n",
    "print(find_med(med_trdvol) == med_trdvol[128])\n",
    "find_med(med_trdvol)"
   ]
  }
 ],
 "metadata": {
  "kernelspec": {
   "display_name": "Python 3",
   "language": "python",
   "name": "python3"
  },
  "language_info": {
   "codemirror_mode": {
    "name": "ipython",
    "version": 3
   },
   "file_extension": ".py",
   "mimetype": "text/x-python",
   "name": "python",
   "nbconvert_exporter": "python",
   "pygments_lexer": "ipython3",
   "version": "3.7.4"
  }
 },
 "nbformat": 4,
 "nbformat_minor": 2
}
